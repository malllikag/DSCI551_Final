{
 "cells": [
  {
   "cell_type": "markdown",
   "id": "5334d8e5-8524-4463-9987-7a43f9e04e36",
   "metadata": {},
   "source": [
    "## Download and Clean Data"
   ]
  },
  {
   "cell_type": "markdown",
   "id": "7bd8a098-707d-4352-964d-a1e3bf161022",
   "metadata": {},
   "source": [
    "Download Link: https://www.chicago.gov/city/en/dataset/crime.html"
   ]
  },
  {
   "cell_type": "code",
   "execution_count": 2,
   "id": "61c4d674-6ce4-4833-9617-90e37d5382e0",
   "metadata": {},
   "outputs": [
    {
     "name": "stdout",
     "output_type": "stream",
     "text": [
      "Note: you may need to restart the kernel to use updated packages.Requirement already satisfied: pandas in c:\\users\\malli\\appdata\\local\\programs\\python\\python313\\lib\\site-packages (2.2.3)\n",
      "Requirement already satisfied: numpy>=1.26.0 in c:\\users\\malli\\appdata\\local\\programs\\python\\python313\\lib\\site-packages (from pandas) (2.1.3)\n",
      "Requirement already satisfied: python-dateutil>=2.8.2 in c:\\users\\malli\\appdata\\local\\programs\\python\\python313\\lib\\site-packages (from pandas) (2.9.0.post0)\n",
      "Requirement already satisfied: pytz>=2020.1 in c:\\users\\malli\\appdata\\local\\programs\\python\\python313\\lib\\site-packages (from pandas) (2024.2)\n",
      "Requirement already satisfied: tzdata>=2022.7 in c:\\users\\malli\\appdata\\local\\programs\\python\\python313\\lib\\site-packages (from pandas) (2024.2)\n",
      "Requirement already satisfied: six>=1.5 in c:\\users\\malli\\appdata\\local\\programs\\python\\python313\\lib\\site-packages (from python-dateutil>=2.8.2->pandas) (1.16.0)\n",
      "\n"
     ]
    },
    {
     "name": "stderr",
     "output_type": "stream",
     "text": [
      "\n",
      "[notice] A new release of pip is available: 24.2 -> 24.3.1\n",
      "[notice] To update, run: python.exe -m pip install --upgrade pip\n"
     ]
    }
   ],
   "source": [
    "pip install pandas"
   ]
  },
  {
   "cell_type": "code",
   "execution_count": 10,
   "id": "6275d3ff-9703-4761-a72c-10284db1f93b",
   "metadata": {},
   "outputs": [
    {
     "data": {
      "text/html": [
       "<div>\n",
       "<style scoped>\n",
       "    .dataframe tbody tr th:only-of-type {\n",
       "        vertical-align: middle;\n",
       "    }\n",
       "\n",
       "    .dataframe tbody tr th {\n",
       "        vertical-align: top;\n",
       "    }\n",
       "\n",
       "    .dataframe thead th {\n",
       "        text-align: right;\n",
       "    }\n",
       "</style>\n",
       "<table border=\"1\" class=\"dataframe\">\n",
       "  <thead>\n",
       "    <tr style=\"text-align: right;\">\n",
       "      <th></th>\n",
       "      <th>CASE#</th>\n",
       "      <th>DATE  OF OCCURRENCE</th>\n",
       "      <th>BLOCK</th>\n",
       "      <th>IUCR</th>\n",
       "      <th>PRIMARY DESCRIPTION</th>\n",
       "      <th>SECONDARY DESCRIPTION</th>\n",
       "      <th>LOCATION DESCRIPTION</th>\n",
       "      <th>ARREST</th>\n",
       "      <th>DOMESTIC</th>\n",
       "      <th>BEAT</th>\n",
       "      <th>WARD</th>\n",
       "      <th>FBI CD</th>\n",
       "      <th>X COORDINATE</th>\n",
       "      <th>Y COORDINATE</th>\n",
       "      <th>LATITUDE</th>\n",
       "      <th>LONGITUDE</th>\n",
       "      <th>LOCATION</th>\n",
       "    </tr>\n",
       "  </thead>\n",
       "  <tbody>\n",
       "    <tr>\n",
       "      <th>0</th>\n",
       "      <td>JH117298</td>\n",
       "      <td>01/16/2024 01:00:00 AM</td>\n",
       "      <td>038XX W DIVERSEY AVE</td>\n",
       "      <td>0810</td>\n",
       "      <td>THEFT</td>\n",
       "      <td>OVER $500</td>\n",
       "      <td>STREET</td>\n",
       "      <td>N</td>\n",
       "      <td>N</td>\n",
       "      <td>2524</td>\n",
       "      <td>35</td>\n",
       "      <td>06</td>\n",
       "      <td>1150337.0</td>\n",
       "      <td>1918345.0</td>\n",
       "      <td>41.931844</td>\n",
       "      <td>-87.722951</td>\n",
       "      <td>(41.931843966, -87.722950868)</td>\n",
       "    </tr>\n",
       "    <tr>\n",
       "      <th>1</th>\n",
       "      <td>JG561057</td>\n",
       "      <td>12/31/2023 04:30:00 PM</td>\n",
       "      <td>004XX N WABASH AVE</td>\n",
       "      <td>0460</td>\n",
       "      <td>BATTERY</td>\n",
       "      <td>SIMPLE</td>\n",
       "      <td>STREET</td>\n",
       "      <td>N</td>\n",
       "      <td>N</td>\n",
       "      <td>1834</td>\n",
       "      <td>42</td>\n",
       "      <td>08B</td>\n",
       "      <td>1176592.0</td>\n",
       "      <td>1902931.0</td>\n",
       "      <td>41.888994</td>\n",
       "      <td>-87.626935</td>\n",
       "      <td>(41.888993854, -87.626934833)</td>\n",
       "    </tr>\n",
       "    <tr>\n",
       "      <th>2</th>\n",
       "      <td>JG512939</td>\n",
       "      <td>11/21/2023 02:28:00 PM</td>\n",
       "      <td>056XX S ELIZABETH ST</td>\n",
       "      <td>143A</td>\n",
       "      <td>WEAPONS VIOLATION</td>\n",
       "      <td>UNLAWFUL POSSESSION - HANDGUN</td>\n",
       "      <td>RESIDENCE - YARD (FRONT / BACK)</td>\n",
       "      <td>N</td>\n",
       "      <td>N</td>\n",
       "      <td>713</td>\n",
       "      <td>16</td>\n",
       "      <td>15</td>\n",
       "      <td>1168951.0</td>\n",
       "      <td>1867382.0</td>\n",
       "      <td>41.791613</td>\n",
       "      <td>-87.656025</td>\n",
       "      <td>(41.791613294, -87.656024853)</td>\n",
       "    </tr>\n",
       "    <tr>\n",
       "      <th>3</th>\n",
       "      <td>JG496628</td>\n",
       "      <td>11/08/2023 03:27:00 PM</td>\n",
       "      <td>059XX N GLENWOOD AVE</td>\n",
       "      <td>0460</td>\n",
       "      <td>BATTERY</td>\n",
       "      <td>SIMPLE</td>\n",
       "      <td>SCHOOL - PUBLIC BUILDING</td>\n",
       "      <td>Y</td>\n",
       "      <td>N</td>\n",
       "      <td>2013</td>\n",
       "      <td>48</td>\n",
       "      <td>08B</td>\n",
       "      <td>1165910.0</td>\n",
       "      <td>1939379.0</td>\n",
       "      <td>41.989244</td>\n",
       "      <td>-87.665120</td>\n",
       "      <td>(41.989243623, -87.665119726)</td>\n",
       "    </tr>\n",
       "    <tr>\n",
       "      <th>4</th>\n",
       "      <td>JG512358</td>\n",
       "      <td>11/21/2023 02:12:00 AM</td>\n",
       "      <td>049XX W SCHUBERT AVE</td>\n",
       "      <td>1320</td>\n",
       "      <td>CRIMINAL DAMAGE</td>\n",
       "      <td>TO VEHICLE</td>\n",
       "      <td>ALLEY</td>\n",
       "      <td>N</td>\n",
       "      <td>N</td>\n",
       "      <td>2521</td>\n",
       "      <td>31</td>\n",
       "      <td>14</td>\n",
       "      <td>1143030.0</td>\n",
       "      <td>1917505.0</td>\n",
       "      <td>41.929679</td>\n",
       "      <td>-87.749824</td>\n",
       "      <td>(41.929678531, -87.749824286)</td>\n",
       "    </tr>\n",
       "  </tbody>\n",
       "</table>\n",
       "</div>"
      ],
      "text/plain": [
       "      CASE#     DATE  OF OCCURRENCE                 BLOCK  IUCR  \\\n",
       "0  JH117298  01/16/2024 01:00:00 AM  038XX W DIVERSEY AVE  0810   \n",
       "1  JG561057  12/31/2023 04:30:00 PM    004XX N WABASH AVE  0460   \n",
       "2  JG512939  11/21/2023 02:28:00 PM  056XX S ELIZABETH ST  143A   \n",
       "3  JG496628  11/08/2023 03:27:00 PM  059XX N GLENWOOD AVE  0460   \n",
       "4  JG512358  11/21/2023 02:12:00 AM  049XX W SCHUBERT AVE  1320   \n",
       "\n",
       "   PRIMARY DESCRIPTION          SECONDARY DESCRIPTION  \\\n",
       "0                THEFT                      OVER $500   \n",
       "1              BATTERY                         SIMPLE   \n",
       "2    WEAPONS VIOLATION  UNLAWFUL POSSESSION - HANDGUN   \n",
       "3              BATTERY                         SIMPLE   \n",
       "4      CRIMINAL DAMAGE                     TO VEHICLE   \n",
       "\n",
       "              LOCATION DESCRIPTION ARREST DOMESTIC  BEAT  WARD FBI CD  \\\n",
       "0                           STREET      N        N  2524    35     06   \n",
       "1                           STREET      N        N  1834    42    08B   \n",
       "2  RESIDENCE - YARD (FRONT / BACK)      N        N   713    16     15   \n",
       "3         SCHOOL - PUBLIC BUILDING      Y        N  2013    48    08B   \n",
       "4                            ALLEY      N        N  2521    31     14   \n",
       "\n",
       "   X COORDINATE  Y COORDINATE   LATITUDE  LONGITUDE  \\\n",
       "0     1150337.0     1918345.0  41.931844 -87.722951   \n",
       "1     1176592.0     1902931.0  41.888994 -87.626935   \n",
       "2     1168951.0     1867382.0  41.791613 -87.656025   \n",
       "3     1165910.0     1939379.0  41.989244 -87.665120   \n",
       "4     1143030.0     1917505.0  41.929679 -87.749824   \n",
       "\n",
       "                        LOCATION  \n",
       "0  (41.931843966, -87.722950868)  \n",
       "1  (41.888993854, -87.626934833)  \n",
       "2  (41.791613294, -87.656024853)  \n",
       "3  (41.989243623, -87.665119726)  \n",
       "4  (41.929678531, -87.749824286)  "
      ]
     },
     "execution_count": 10,
     "metadata": {},
     "output_type": "execute_result"
    }
   ],
   "source": [
    "import pandas as pd\n",
    "import numpy as np\n",
    "\n",
    "data = pd.read_csv(r\"C:\\Users\\malli\\Documents\\Education\\M.S. Spatial Data Science\\Semester 5\\DSCI 551\\Project\\Crimes_-_One_year_prior_to_present.csv\")\n",
    "data.head()"
   ]
  },
  {
   "cell_type": "code",
   "execution_count": 11,
   "id": "3f5183dd-e2bd-4227-85df-988f057eba37",
   "metadata": {},
   "outputs": [
    {
     "name": "stdout",
     "output_type": "stream",
     "text": [
      "Original Column Names:\n",
      "['CASE#', 'DATE  OF OCCURRENCE', 'BLOCK', ' IUCR', ' PRIMARY DESCRIPTION', ' SECONDARY DESCRIPTION', ' LOCATION DESCRIPTION', 'ARREST', 'DOMESTIC', 'BEAT', 'WARD', 'FBI CD', 'X COORDINATE', 'Y COORDINATE', 'LATITUDE', 'LONGITUDE', 'LOCATION']\n"
     ]
    }
   ],
   "source": [
    "print(\"Original Column Names:\")\n",
    "print(df.columns.tolist())\n"
   ]
  },
  {
   "cell_type": "code",
   "execution_count": 12,
   "id": "887c8566-3ed1-4611-b3e3-4f061c8163ca",
   "metadata": {},
   "outputs": [],
   "source": [
    "import re\n",
    "\n",
    "def clean_column_names(columns):\n",
    "    cleaned_columns = []\n",
    "    for col in columns:\n",
    "        # Strip leading and trailing spaces\n",
    "        col = col.strip()\n",
    "        # Replace multiple spaces with a single space\n",
    "        col = re.sub(r'\\s+', ' ', col)\n",
    "        # Replace spaces with underscores\n",
    "        col = col.replace(' ', '_')\n",
    "        # Convert to lowercase\n",
    "        col = col.lower()\n",
    "        # Remove any remaining special characters (optional)\n",
    "        col = re.sub(r'[^\\w_]', '', col)\n",
    "        cleaned_columns.append(col)\n",
    "    return cleaned_columns\n"
   ]
  },
  {
   "cell_type": "code",
   "execution_count": 14,
   "id": "e8d46aec-1f92-4b86-a27b-622a94328c8c",
   "metadata": {},
   "outputs": [
    {
     "name": "stdout",
     "output_type": "stream",
     "text": [
      "Cleaned Column Names:\n",
      "['case', 'date_of_occurrence', 'block', 'iucr', 'primary_description', 'secondary_description', 'location_description', 'arrest', 'domestic', 'beat', 'ward', 'fbi_cd', 'x_coordinate', 'y_coordinate', 'latitude', 'longitude', 'location']\n"
     ]
    }
   ],
   "source": [
    "# Apply the cleaning function to the current columns\n",
    "data.columns = clean_column_names(data.columns)\n",
    "\n",
    "print(\"Cleaned Column Names:\")\n",
    "print(data.columns.tolist())\n"
   ]
  },
  {
   "cell_type": "code",
   "execution_count": 15,
   "id": "fa567d0c-84bd-48cd-9c33-a568a0aad61f",
   "metadata": {},
   "outputs": [
    {
     "name": "stdout",
     "output_type": "stream",
     "text": [
      "['case', 'date_of_occurrence', 'block', 'iucr', 'primary_description', 'secondary_description', 'location_description', 'arrest', 'domestic', 'beat', 'ward', 'fbi_cd', 'x_coordinate', 'y_coordinate', 'latitude', 'longitude', 'location']\n"
     ]
    }
   ],
   "source": [
    "print(data.columns.tolist())\n"
   ]
  },
  {
   "cell_type": "markdown",
   "id": "4b991eef-2d7b-49c3-b35c-10ae828f8264",
   "metadata": {},
   "source": [
    "## Dropping Unnecessary Columns"
   ]
  },
  {
   "cell_type": "code",
   "execution_count": 21,
   "id": "5e38c8b8-f56a-4160-a3b7-6dea3f58a722",
   "metadata": {
    "scrolled": true
   },
   "outputs": [
    {
     "name": "stdout",
     "output_type": "stream",
     "text": [
      "Columns after Dropping:\n",
      "['date_of_occurrence', 'primary_description', 'secondary_description', 'arrest', 'domestic', 'beat', 'ward', 'x_coordinate', 'y_coordinate', 'latitude', 'longitude']\n"
     ]
    }
   ],
   "source": [
    "# Define columns to drop\n",
    "columns_to_drop = [\n",
    "    'case',\n",
    "    'iucr',\n",
    "    'block',\n",
    "    'fbi_cd',\n",
    "    'location_description',  # High number of missing values\n",
    "    'location'               # Potentially redundant with latitude and longitude\n",
    "]\n",
    "\n",
    "# Drop the columns\n",
    "df_cleaned = data.drop(columns=columns_to_drop)\n",
    "\n",
    "print(\"Columns after Dropping:\")\n",
    "print(df_cleaned.columns.tolist())\n"
   ]
  },
  {
   "cell_type": "markdown",
   "id": "3a7538e9-d210-4c47-aba7-a9a768e96ed8",
   "metadata": {},
   "source": [
    "## Handling Missing Values"
   ]
  },
  {
   "cell_type": "code",
   "execution_count": 22,
   "id": "da0fe301-0e83-4af9-be7b-49c296c3ce2f",
   "metadata": {},
   "outputs": [
    {
     "name": "stdout",
     "output_type": "stream",
     "text": [
      "Missing Values per Column:\n",
      "date_of_occurrence         0\n",
      "primary_description        0\n",
      "secondary_description      0\n",
      "arrest                     0\n",
      "domestic                   0\n",
      "beat                       0\n",
      "ward                       0\n",
      "x_coordinate             106\n",
      "y_coordinate             106\n",
      "latitude                 106\n",
      "longitude                106\n",
      "dtype: int64\n"
     ]
    }
   ],
   "source": [
    "# Check for missing values in the cleaned DataFrame\n",
    "missing_values = df_cleaned.isnull().sum()\n",
    "print(\"Missing Values per Column:\")\n",
    "print(missing_values)\n"
   ]
  },
  {
   "cell_type": "code",
   "execution_count": 23,
   "id": "16de7b9b-dbff-4683-84bb-2daf586a6924",
   "metadata": {},
   "outputs": [
    {
     "name": "stdout",
     "output_type": "stream",
     "text": [
      "Missing Values after Dropping Rows:\n",
      "latitude     0\n",
      "longitude    0\n",
      "dtype: int64\n"
     ]
    }
   ],
   "source": [
    "# Drop rows where latitude or longitude is missing\n",
    "df_cleaned = df_cleaned.dropna(subset=['latitude', 'longitude'])\n",
    "\n",
    "# Optionally, reset the index after dropping rows\n",
    "df_cleaned.reset_index(drop=True, inplace=True)\n",
    "\n",
    "# Verify that there are no more missing values in latitude and longitude\n",
    "remaining_missing = df_cleaned[['latitude', 'longitude']].isnull().sum()\n",
    "print(\"Missing Values after Dropping Rows:\")\n",
    "print(remaining_missing)\n"
   ]
  },
  {
   "cell_type": "code",
   "execution_count": 24,
   "id": "d2d2cfee-e579-48dc-9f21-854ff5853312",
   "metadata": {},
   "outputs": [
    {
     "name": "stdout",
     "output_type": "stream",
     "text": [
      "datetime64[ns]\n"
     ]
    }
   ],
   "source": [
    "# Convert 'date_of_occurrence' to datetime\n",
    "df_cleaned['date_of_occurrence'] = pd.to_datetime(df_cleaned['date_of_occurrence'], errors='coerce')\n",
    "\n",
    "# Verify the conversion\n",
    "print(df_cleaned['date_of_occurrence'].dtype)\n"
   ]
  },
  {
   "cell_type": "markdown",
   "id": "5d7ae15e-7ba8-4f66-8e9c-3e8b97a69844",
   "metadata": {},
   "source": [
    "## Review Summary Statistics"
   ]
  },
  {
   "cell_type": "code",
   "execution_count": 25,
   "id": "a107162e-a0ce-48b0-b774-1ea52c165f9e",
   "metadata": {},
   "outputs": [
    {
     "name": "stdout",
     "output_type": "stream",
     "text": [
      "                  date_of_occurrence           beat           ward  \\\n",
      "count                         257473  257473.000000  257473.000000   \n",
      "mean   2024-05-11 12:31:53.459209472    1157.791749      23.181580   \n",
      "min              2023-11-08 05:20:00     111.000000       1.000000   \n",
      "25%              2024-02-11 23:55:00     533.000000      10.000000   \n",
      "50%              2024-05-16 13:45:00    1034.000000      23.000000   \n",
      "75%              2024-08-08 08:15:00    1732.000000      34.000000   \n",
      "max              2024-11-06 00:00:00    2535.000000      50.000000   \n",
      "std                              NaN     710.378220      13.943045   \n",
      "\n",
      "       x_coordinate  y_coordinate       latitude      longitude  \n",
      "count  2.574730e+05  2.574730e+05  257473.000000  257473.000000  \n",
      "mean   1.165264e+06  1.887719e+06      41.847483     -87.669008  \n",
      "min    1.092647e+06  1.813897e+06      41.644590     -87.934567  \n",
      "25%    1.154006e+06  1.860396e+06      41.772386     -87.709872  \n",
      "50%    1.167108e+06  1.894388e+06      41.865974     -87.662086  \n",
      "75%    1.176636e+06  1.910489e+06      41.910103     -87.627352  \n",
      "max    1.205117e+06  1.951493e+06      42.022548     -87.524532  \n",
      "std    1.615483e+04  3.161106e+04       0.086925       0.058822  \n",
      "       primary_description secondary_description  arrest domestic\n",
      "count               257473                257473  257473   257473\n",
      "unique                  31                   310       2        2\n",
      "top                  THEFT                SIMPLE       N        N\n",
      "freq                 59934                 31303  223876   210457\n"
     ]
    }
   ],
   "source": [
    "# Display summary statistics for numerical columns\n",
    "print(df_cleaned.describe())\n",
    "\n",
    "# Display summary statistics for categorical columns\n",
    "print(df_cleaned.describe(include=['object', 'bool']))\n"
   ]
  },
  {
   "cell_type": "code",
   "execution_count": 26,
   "id": "82f9e911-ed0d-4ca4-b0f5-70ae7afb84c9",
   "metadata": {},
   "outputs": [
    {
     "name": "stdout",
     "output_type": "stream",
     "text": [
      "   date_of_occurrence primary_description          secondary_description  \\\n",
      "0 2024-01-16 01:00:00               THEFT                      OVER $500   \n",
      "1 2023-12-31 16:30:00             BATTERY                         SIMPLE   \n",
      "2 2023-11-21 14:28:00   WEAPONS VIOLATION  UNLAWFUL POSSESSION - HANDGUN   \n",
      "3 2023-11-08 15:27:00             BATTERY                         SIMPLE   \n",
      "4 2023-11-21 02:12:00     CRIMINAL DAMAGE                     TO VEHICLE   \n",
      "\n",
      "  arrest domestic  beat  ward  x_coordinate  y_coordinate   latitude  \\\n",
      "0      N        N  2524    35     1150337.0     1918345.0  41.931844   \n",
      "1      N        N  1834    42     1176592.0     1902931.0  41.888994   \n",
      "2      N        N   713    16     1168951.0     1867382.0  41.791613   \n",
      "3      Y        N  2013    48     1165910.0     1939379.0  41.989244   \n",
      "4      N        N  2521    31     1143030.0     1917505.0  41.929679   \n",
      "\n",
      "   longitude  \n",
      "0 -87.722951  \n",
      "1 -87.626935  \n",
      "2 -87.656025  \n",
      "3 -87.665120  \n",
      "4 -87.749824  \n"
     ]
    }
   ],
   "source": [
    "# Save the cleaned dataset to a new CSV file\n",
    "df_cleaned.to_csv('chicago_crime_data_cleaned.csv', index=False)\n",
    "\n",
    "# Optionally, display the first few rows of the cleaned dataset\n",
    "print(df_cleaned.head())\n"
   ]
  },
  {
   "cell_type": "code",
   "execution_count": null,
   "id": "df010d7d-8281-448e-9f6d-cc7513e423cc",
   "metadata": {},
   "outputs": [],
   "source": []
  }
 ],
 "metadata": {
  "kernelspec": {
   "display_name": "Python 3 (ipykernel)",
   "language": "python",
   "name": "python3"
  },
  "language_info": {
   "codemirror_mode": {
    "name": "ipython",
    "version": 3
   },
   "file_extension": ".py",
   "mimetype": "text/x-python",
   "name": "python",
   "nbconvert_exporter": "python",
   "pygments_lexer": "ipython3",
   "version": "3.13.0"
  }
 },
 "nbformat": 4,
 "nbformat_minor": 5
}
